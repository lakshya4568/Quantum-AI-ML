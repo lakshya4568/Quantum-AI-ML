{
 "cells": [
  {
   "cell_type": "code",
   "execution_count": 1,
   "id": "e30140be",
   "metadata": {},
   "outputs": [
    {
     "name": "stdout",
     "output_type": "stream",
     "text": [
      "hello, world\n"
     ]
    }
   ],
   "source": [
    "print(\"hello, world\")"
   ]
  },
  {
   "cell_type": "code",
   "execution_count": null,
   "id": "c714cf43",
   "metadata": {},
   "outputs": [
    {
     "ename": "ModuleNotFoundError",
     "evalue": "No module named 'qiskit_ibm_runtime'",
     "output_type": "error",
     "traceback": [
      "\u001b[31m---------------------------------------------------------------------------\u001b[39m",
      "\u001b[31mModuleNotFoundError\u001b[39m                       Traceback (most recent call last)",
      "\u001b[36mCell\u001b[39m\u001b[36m \u001b[39m\u001b[32mIn[2]\u001b[39m\u001b[32m, line 2\u001b[39m\n\u001b[32m      1\u001b[39m \u001b[38;5;66;03m# Use QiskitRuntimeService from qiskit-ibm-runtime\u001b[39;00m\n\u001b[32m----> \u001b[39m\u001b[32m2\u001b[39m \u001b[38;5;28;01mfrom\u001b[39;00m\u001b[38;5;250m \u001b[39m\u001b[34;01mqiskit_ibm_runtime\u001b[39;00m\u001b[38;5;250m \u001b[39m\u001b[38;5;28;01mimport\u001b[39;00m QiskitRuntimeService\n\u001b[32m      3\u001b[39m \u001b[38;5;28;01mfrom\u001b[39;00m\u001b[38;5;250m \u001b[39m\u001b[34;01mos\u001b[39;00m\u001b[38;5;250m \u001b[39m\u001b[38;5;28;01mimport\u001b[39;00m getenv\n\u001b[32m      4\u001b[39m \u001b[38;5;66;03m# Get IBM Quantum account from environment variable\u001b[39;00m\n",
      "\u001b[31mModuleNotFoundError\u001b[39m: No module named 'qiskit_ibm_runtime'"
     ]
    }
   ],
   "source": [
    "# Use QiskitRuntimeService from qiskit-ibm-runtime\n",
    "from qiskit_ibm_runtime import QiskitRuntimeService\n",
    "from os import getenv\n",
    "# Get IBM Quantum account from environment variable\n",
    "ibmq_token = getenv(\"ibmq_token\")\n",
    "QiskitRuntimeService.save_account(token=ibmq_token, channel='ibm_quantum', overwrite=True)"
   ]
  },
  {
   "cell_type": "code",
   "execution_count": 4,
   "id": "2698f419",
   "metadata": {},
   "outputs": [
    {
     "name": "stdout",
     "output_type": "stream",
     "text": [
      "IBM Quantum token: 454f22e1ac9e277ccc4f7478374051569e83ad162327fe3a51cce3e1e7b74c1b5b3233a8a7c6bd304c73ee5a37c02580043ee912eb024e8aa6ae8c7d37f25912\n"
     ]
    }
   ],
   "source": [
    "print(f\"IBM Quantum token: {ibmq_token}\")"
   ]
  },
  {
   "cell_type": "code",
   "execution_count": 5,
   "id": "a3fd1a0a",
   "metadata": {},
   "outputs": [
    {
     "name": "stdout",
     "output_type": "stream",
     "text": [
      "Retrieved IBM Quantum Token: 454f22e1ac...\n",
      "QiskitRuntimeService initialized successfully.\n"
     ]
    }
   ],
   "source": [
    "if ibmq_token is None:\n",
    "    raise ValueError(\"IBM Quantum Token not found in environment variables. Please set it.\")\n",
    "\n",
    "# Print part of the token to verify\n",
    "print(f\"Retrieved IBM Quantum Token: {ibmq_token[:10]}...\")\n",
    "\n",
    "# Instantiate the QiskitRuntimeService\n",
    "try:\n",
    "    # Initialize service with token. Specify channel if needed (e.g., 'ibm_cloud', 'ibm_quantum').\n",
    "    service = QiskitRuntimeService(token=ibmq_token, channel='ibm_quantum')\n",
    "    print(\"QiskitRuntimeService initialized successfully.\")\n",
    "except Exception as e:\n",
    "    print(f\"Failed to initialize QiskitRuntimeService: {e}\")\n",
    "    raise"
   ]
  },
  {
   "cell_type": "code",
   "execution_count": 6,
   "id": "f7f1ae1d",
   "metadata": {},
   "outputs": [
    {
     "name": "stdout",
     "output_type": "stream",
     "text": [
      "[<IBMBackend('ibm_brisbane')>, <IBMBackend('ibm_kyiv')>, <IBMBackend('ibm_sherbrooke')>]\n"
     ]
    }
   ],
   "source": [
    "available_backends = service.backends()\n",
    "show_backend = print(available_backends)\n",
    "choose = input(\"Enter the name of the backend you want to choose : \")\n",
    "\n",
    "backend = next((backend for backend in available_backends if str(backend) == choose), None)\n",
    "if backend is None:\n",
    "    print(\"No backend found with the name:\", choose)"
   ]
  },
  {
   "cell_type": "code",
   "execution_count": 7,
   "id": "eb647e9e",
   "metadata": {},
   "outputs": [
    {
     "name": "stdout",
     "output_type": "stream",
     "text": [
      "Successfully connected to the selected QPU backend: <IBMBackend('ibm_kyiv')>\n"
     ]
    }
   ],
   "source": [
    "if backend is not None and backend.configuration().simulator is False:\n",
    "    print(f\"Successfully connected to the selected QPU backend: {backend}\")\n",
    "else:\n",
    "    print(\"Failed to connect to the selected QPU backend or the backend is a simulator.\")"
   ]
  },
  {
   "cell_type": "code",
   "execution_count": 8,
   "id": "33327a83-607a-402c-8fe5-cfa2246633d5",
   "metadata": {},
   "outputs": [
    {
     "data": {
      "image/png": "[encoded data removed]",
      "text/plain": [
       "<Figure size 580.387x284.278 with 1 Axes>"
      ]
     },
     "execution_count": 8,
     "metadata": {},
     "output_type": "execute_result"
    }
   ],
   "source": [
    "from qiskit import QuantumCircuit\n",
    "\n",
    "qc = QuantumCircuit(2)\n",
    "\n",
    "qc.h(0) # Add a Hadamard gate to qubit 0\n",
    "qc.cx(0, 1) # Perform a controlled-X gate on qubit 1, controlled by qubit 0\n",
    "qc.measure_all() # Measure all qubits\n",
    "\n",
    "''' Return a drawing of the circuit using MatPlotLib (\"mpl\"). This is the last line of the cell, \n",
    "so the drawing appears in the cell output. Remove the \"mpl\" argument to get a text drawing. '''\n",
    "qc.draw('mpl')"
   ]
  },
  {
   "cell_type": "code",
   "execution_count": 9,
   "id": "aec3a430",
   "metadata": {},
   "outputs": [],
   "source": [
    "# import the required libraries\n",
    "from qiskit.quantum_info import SparsePauliOp\n",
    "from qiskit.transpiler.preset_passmanagers import generate_preset_pass_manager\n",
    "from qiskit_ibm_runtime import QiskitRuntimeService, EstimatorV2 as Estimator"
   ]
  },
  {
   "cell_type": "code",
   "execution_count": 10,
   "id": "5ca44de5",
   "metadata": {},
   "outputs": [],
   "source": [
    "# Set up six different observables.\n",
    "observables_labels = [\"ZZ\", \"ZI\", \"IZ\", \"XX\", \"XI\"]\n",
    "observables = [SparsePauliOp(label) for label in observables_labels]"
   ]
  },
  {
   "cell_type": "code",
   "execution_count": 11,
   "id": "797c18f0",
   "metadata": {},
   "outputs": [],
   "source": [
    "service = QiskitRuntimeService('ibm_quantum')"
   ]
  },
  {
   "cell_type": "code",
   "execution_count": 12,
   "id": "804301c5",
   "metadata": {},
   "outputs": [],
   "source": [
    "# construct the estimator instance we want to use\n",
    "estimator = Estimator(backend)\n",
    "estimator.options.resilience_level = 1\n",
    "estimator.options.default_shots = 5000\n",
    " "
   ]
  },
  {
   "cell_type": "code",
   "execution_count": 13,
   "id": "39673644",
   "metadata": {},
   "outputs": [],
   "source": [
    "# Convert to an ISA circuit and layout-mapped observables.\n",
    "pm = generate_preset_pass_manager(backend=backend, optimization_level=1)\n",
    "isa_circuit = pm.run(qc)\n",
    "observables = [observable.apply_layout(isa_circuit.layout) for observable in observables]"
   ]
  },
  {
   "cell_type": "code",
   "execution_count": 14,
   "id": "601effbc",
   "metadata": {},
   "outputs": [],
   "source": [
    "# One pub, with one circuit to run against five different observables.\n",
    "job = estimator.run([(isa_circuit, observables)])\n",
    " \n",
    "# This is the result of the entire submission.  We submitted one Pub,\n",
    "# so this contains one inner result (and some metadata of its own).\n",
    "job_result = job.result()\n",
    " \n",
    "# This is the result from our single pub, which had five observables,\n",
    "# so contains information on all five.\n",
    "pub_result = job.result()[0]"
   ]
  },
  {
   "cell_type": "code",
   "execution_count": 15,
   "id": "55ee6f75",
   "metadata": {},
   "outputs": [
    {
     "data": {
      "text/plain": [
       "<ErrorbarContainer object of 3 artists>"
      ]
     },
     "execution_count": 15,
     "metadata": {},
     "output_type": "execute_result"
    },
    {
     "data": {
      "image/png": "[encoded data removed]",
      "text/plain": [
       "<Figure size 640x480 with 1 Axes>"
      ]
     },
     "metadata": {},
     "output_type": "display_data"
    }
   ],
   "source": [
    "# Plot the result\n",
    " \n",
    "from matplotlib import pyplot as plt\n",
    " \n",
    "data = observables_labels\n",
    "values = pub_result.data.evs\n",
    " \n",
    "errors = pub_result.data.ensemble_standard_error\n",
    " \n",
    "plt.errorbar(observables_labels, values, yerr=errors, fmt=\"o\")"
   ]
  },
  {
   "cell_type": "code",
   "execution_count": 16,
   "id": "c3639524",
   "metadata": {},
   "outputs": [
    {
     "name": "stdout",
     "output_type": "stream",
     "text": [
      "Expectation values for pub 0: [ 0.99649573 -0.01547304 -0.01408268  1.00308141 -0.02850297]\n"
     ]
    }
   ],
   "source": [
    "job11 = service.job('czrdddnd8drg008gq210')\n",
    "job_result = job11.result()\n",
    "\n",
    "for idx, pub_result in enumerate(job_result):\n",
    "    print(f\"Expectation values for pub {idx}: {pub_result.data.evs}\")"
   ]
  }
 ],
 "metadata": {
  "kernelspec": {
   "display_name": "quantum-ai-ml-workshop (3.13.5)",
   "language": "python",
   "name": "python3"
  },
  "language_info": {
   "codemirror_mode": {
    "name": "ipython",
    "version": 3
   },
   "file_extension": ".py",
   "mimetype": "text/x-python",
   "name": "python",
   "nbconvert_exporter": "python",
   "pygments_lexer": "ipython3",
   "version": "3.13.5"
  }
 },
 "nbformat": 4,
 "nbformat_minor": 5
}
