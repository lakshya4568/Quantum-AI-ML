{
 "cells": [
  {
   "cell_type": "code",
   "execution_count": 1,
   "id": "c714cf43",
   "metadata": {},
   "outputs": [],
   "source": [
    "# Use QiskitRuntimeService from qiskit-ibm-runtime\n",
    "from qiskit_ibm_runtime import QiskitRuntimeService\n",
    "from os import getenv\n",
    "# Get IBM Quantum account from environment variable\n",
    "ibm_token = getenv(\"ibm_token\")\n",
    "ibm_instance = getenv(\"QISKIT_IBM_INSTANCE\")\n",
    "QiskitRuntimeService.save_account(\n",
    "    token=ibm_token, \n",
    "    channel=\"ibm_quantum_platform\", \n",
    "    overwrite=True, region='us-east',\n",
    "    instance=ibm_instance,\n",
    "    plans_preference=[\"Open\"]\n",
    ")"
   ]
  },
  {
   "cell_type": "code",
   "execution_count": 2,
   "id": "a3fd1a0a",
   "metadata": {},
   "outputs": [
    {
     "name": "stdout",
     "output_type": "stream",
     "text": [
      "QiskitRuntimeService initialized successfully.\n"
     ]
    }
   ],
   "source": [
    "# Instantiate the QiskitRuntimeService\n",
    "try:\n",
    "    # Initialize service with token. Specify channel if needed (e.g., 'ibm_cloud', 'ibm_quantum').\n",
    "    service = QiskitRuntimeService()\n",
    "    print(\"QiskitRuntimeService initialized successfully.\")\n",
    "except Exception as e:\n",
    "    print(f\"Failed to initialize QiskitRuntimeService: {e}\")\n",
    "    raise"
   ]
  },
  {
   "cell_type": "code",
   "execution_count": 3,
   "id": "f7f1ae1d",
   "metadata": {},
   "outputs": [
    {
     "name": "stdout",
     "output_type": "stream",
     "text": [
      "[<IBMBackend('ibm_torino')>, <IBMBackend('ibm_brisbane')>]\n"
     ]
    }
   ],
   "source": [
    "available_backends = service.backends()\n",
    "show_backend = print(available_backends)\n",
    "choose = input(\"Enter the name of the backend you want to choose : \")\n",
    "\n",
    "backend = next((backend for backend in available_backends if str(backend) == choose), None)\n",
    "if backend is None:\n",
    "    print(\"No backend found with the name:\", choose)"
   ]
  },
  {
   "cell_type": "code",
   "execution_count": 4,
   "id": "eb647e9e",
   "metadata": {},
   "outputs": [
    {
     "name": "stdout",
     "output_type": "stream",
     "text": [
      "Successfully connected to the selected QPU backend: <IBMBackend('ibm_torino')>\n"
     ]
    }
   ],
   "source": [
    "if backend is not None and backend.configuration().simulator is False:\n",
    "    print(f\"Successfully connected to the selected QPU backend: {backend}\")\n",
    "else:\n",
    "    print(\"Failed to connect to the selected QPU backend or the backend is a simulator.\")"
   ]
  },
  {
   "cell_type": "code",
   "execution_count": 5,
   "id": "33327a83-607a-402c-8fe5-cfa2246633d5",
   "metadata": {},
   "outputs": [
    {
     "data": {
      "image/png": "[encoded data removed]",
      "text/plain": [
       "<Figure size 580.387x284.278 with 1 Axes>"
      ]
     },
     "execution_count": 5,
     "metadata": {},
     "output_type": "execute_result"
    }
   ],
   "source": [
    "from qiskit import QuantumCircuit\n",
    "\n",
    "qc = QuantumCircuit(2)\n",
    "\n",
    "qc.h(0) # Add a Hadamard gate to qubit 0\n",
    "qc.cx(0, 1) # Perform a controlled-X gate on qubit 1, controlled by qubit 0\n",
    "qc.measure_all() # Measure all qubits\n",
    "\n",
    "''' Return a drawing of the circuit using MatPlotLib (\"mpl\"). This is the last line of the cell, \n",
    "so the drawing appears in the cell output. Remove the \"mpl\" argument to get a text drawing. '''\n",
    "qc.draw('mpl')"
   ]
  },
  {
   "cell_type": "code",
   "execution_count": 6,
   "id": "aec3a430",
   "metadata": {},
   "outputs": [],
   "source": [
    "# import the required libraries\n",
    "from qiskit.quantum_info import SparsePauliOp\n",
    "from qiskit.transpiler.preset_passmanagers import generate_preset_pass_manager\n",
    "from qiskit_ibm_runtime import EstimatorV2 as Estimator"
   ]
  },
  {
   "cell_type": "code",
   "execution_count": 7,
   "id": "5ca44de5",
   "metadata": {},
   "outputs": [],
   "source": [
    "# Set up six different observables.\n",
    "observables_labels = [\"ZZ\", \"ZI\", \"IZ\", \"XX\", \"XI\"]\n",
    "observables = [SparsePauliOp(label) for label in observables_labels]"
   ]
  },
  {
   "cell_type": "code",
   "execution_count": 8,
   "id": "120ae19f",
   "metadata": {},
   "outputs": [
    {
     "data": {
      "image/png": "[encoded data removed]",
      "text/plain": [
       "<Figure size 1008.66x284.278 with 1 Axes>"
      ]
     },
     "execution_count": 8,
     "metadata": {},
     "output_type": "execute_result"
    }
   ],
   "source": [
    "# Convert to an ISA circuit and layout-mapped observables.\n",
    "pm = generate_preset_pass_manager(backend=backend, optimization_level=1)\n",
    "isa_circuit = pm.run(qc)\n",
    "observables = [observable.apply_layout(isa_circuit.layout) for observable in observables]\n",
    "isa_circuit.draw(\"mpl\", idle_wires=False)"
   ]
  },
  {
   "cell_type": "code",
   "execution_count": 9,
   "id": "804301c5",
   "metadata": {},
   "outputs": [
    {
     "name": "stdout",
     "output_type": "stream",
     "text": [
      ">>> Job ID: d2ng4scg59ks73c7e4gg\n"
     ]
    }
   ],
   "source": [
    "# construct the estimator instance we want to use\n",
    "estimator = Estimator(mode=backend, options={\"resilience_level\": 1, \"default_shots\": 5000})\n",
    "\n",
    "\n",
    "# One pub, with one circuit to run against five different observables.\n",
    "job = estimator.run([(isa_circuit, observables)])\n",
    "\n",
    "# Use the job ID to retrieve your job data later\n",
    "print(f\">>> Job ID: {job.job_id()}\")"
   ]
  },
  {
   "cell_type": "code",
   "execution_count": 10,
   "id": "601effbc",
   "metadata": {},
   "outputs": [],
   "source": [
    "# This is the result of the entire submission.  We submitted one Pub,\n",
    "# so this contains one inner result (and some metadata of its own).\n",
    "job_result = job.result()\n",
    " \n",
    "# This is the result from our single pub, which had five observables,\n",
    "# so contains information on all five.\n",
    "pub_result = job.result()[0]"
   ]
  },
  {
   "cell_type": "code",
   "execution_count": 11,
   "id": "55ee6f75",
   "metadata": {},
   "outputs": [
    {
     "data": {
      "text/plain": [
       "<ErrorbarContainer object of 3 artists>"
      ]
     },
     "execution_count": 11,
     "metadata": {},
     "output_type": "execute_result"
    },
    {
     "data": {
      "image/png": "[encoded data removed]",
      "text/plain": [
       "<Figure size 640x480 with 1 Axes>"
      ]
     },
     "metadata": {},
     "output_type": "display_data"
    }
   ],
   "source": [
    "# Plot the result\n",
    " \n",
    "from matplotlib import pyplot as plt\n",
    " \n",
    "data = observables_labels\n",
    "values = pub_result.data.evs\n",
    " \n",
    "errors = pub_result.data.ensemble_standard_error\n",
    " \n",
    "plt.errorbar(observables_labels, values, yerr=errors, fmt=\"o\")"
   ]
  },
  {
   "cell_type": "code",
   "execution_count": 12,
   "id": "c3639524",
   "metadata": {},
   "outputs": [
    {
     "name": "stdout",
     "output_type": "stream",
     "text": [
      "Expectation values for pub 0: [1.07154073 0.09086505 0.1133227  1.07628206 0.03180277]\n"
     ]
    }
   ],
   "source": [
    "job11 = service.job(job.job_id())\n",
    "job_result = job11.result()\n",
    "\n",
    "for idx, pub_result in enumerate(job_result):\n",
    "    print(f\"Expectation values for pub {idx}: {pub_result.data.evs}\")"
   ]
  }
 ],
 "metadata": {
  "kernelspec": {
   "display_name": "quantum-ai-ml-workshop (3.11.13)",
   "language": "python",
   "name": "python3"
  },
  "language_info": {
   "codemirror_mode": {
    "name": "ipython",
    "version": 3
   },
   "file_extension": ".py",
   "mimetype": "text/x-python",
   "name": "python",
   "nbconvert_exporter": "python",
   "pygments_lexer": "ipython3",
   "version": "3.11.13"
  }
 },
 "nbformat": 4,
 "nbformat_minor": 5
}
